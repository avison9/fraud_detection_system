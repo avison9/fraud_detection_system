{
  "nbformat": 4,
  "nbformat_minor": 0,
  "metadata": {
    "colab": {
      "provenance": []
    },
    "kernelspec": {
      "name": "python3",
      "display_name": "Python 3"
    },
    "language_info": {
      "name": "python"
    }
  },
  "cells": [
    {
      "cell_type": "code",
      "execution_count": 2,
      "metadata": {
        "id": "ojKnYzvTWGDA"
      },
      "outputs": [],
      "source": [
        "import pandas as pd\n",
        "import numpy as np\n",
        "from sklearn.model_selection import train_test_split\n",
        "from sklearn.preprocessing import StandardScaler, OneHotEncoder\n",
        "from imblearn.over_sampling import SMOTE\n",
        "from sklearn.metrics import classification_report\n",
        "import xgboost as xgb\n",
        "import pickle"
      ]
    },
    {
      "cell_type": "code",
      "source": [
        "class FraudDetector:\n",
        "    def __init__(self, model_type='xgboost'):\n",
        "        self.model_type = model_type\n",
        "        self.model = None\n",
        "        self.scaler = StandardScaler()\n",
        "        self.feature_cols = []\n",
        "\n",
        "    def preprocess_data(self, df):\n",
        "        df = df.drop(columns=['transaction_id', 'timestamp'])\n",
        "\n",
        "        df = pd.get_dummies(df, columns=[\n",
        "            'currency', 'location', 'device_type', 'sender_wallet', 'receiver_wallet'\n",
        "        ], drop_first=True)\n",
        "\n",
        "        X = df.drop(columns=['is_fraud'])\n",
        "        y = df['is_fraud']\n",
        "\n",
        "        numerical_cols = ['amount', 'gas_fee', 'is_smart_contract']\n",
        "        X[numerical_cols] = self.scaler.fit_transform(X[numerical_cols])\n",
        "\n",
        "        smote = SMOTE()\n",
        "        X_bal, y_bal = smote.fit_resample(X, y)\n",
        "\n",
        "        self.feature_cols = X_bal.columns.tolist()\n",
        "        return X_bal, y_bal\n",
        "\n",
        "    def train(self, df):\n",
        "        X, y = self.preprocess_data(df)\n",
        "        X_train, X_test, y_train, y_test = train_test_split(X, y, test_size=0.2, random_state=42)\n",
        "\n",
        "        if self.model_type == 'xgboost':\n",
        "            self.model = xgb.XGBClassifier(use_label_encoder=False, eval_metric='logloss')\n",
        "            self.model.fit(X_train, y_train)\n",
        "            self.evaluate(X_test, y_test)\n",
        "\n",
        "    def evaluate(self, X_test, y_test):\n",
        "        y_pred = self.model.predict(X_test)\n",
        "        print(classification_report(y_test, y_pred))\n",
        "\n",
        "    def predict(self, new_transaction_dict):\n",
        "      df = pd.DataFrame([new_transaction_dict])\n",
        "      df = pd.get_dummies(df)\n",
        "\n",
        "      # Add missing columns (zero-filled)\n",
        "      missing_cols = [col for col in self.feature_cols if col not in df.columns]\n",
        "      df_missing = pd.DataFrame(0, index=df.index, columns=missing_cols)\n",
        "      df = pd.concat([df, df_missing], axis=1)\n",
        "\n",
        "      # Drop unexpected extra columns\n",
        "      df = df[[col for col in df.columns if col in self.feature_cols]]\n",
        "\n",
        "      # Reorder to match model input\n",
        "      df = df[self.feature_cols]\n",
        "\n",
        "      # Scale only the numerical columns\n",
        "      numerical_cols = ['amount', 'gas_fee', 'is_smart_contract']\n",
        "      df[numerical_cols] = self.scaler.transform(df[numerical_cols])\n",
        "\n",
        "      # Predict\n",
        "      prediction = self.model.predict(df)\n",
        "      return prediction[0]"
      ],
      "metadata": {
        "id": "RcAigOO_WXVO"
      },
      "execution_count": 3,
      "outputs": []
    },
    {
      "cell_type": "code",
      "source": [
        "# df = pd.read_csv(file path)\n",
        "\n",
        "fd = FraudDetector()\n",
        "fd.train(df)\n",
        "\n",
        "# Save model (optional)\n",
        "with open(\"fraud_detection_model.pkl\", \"wb\") as f:\n",
        "    pickle.dump(fd.model, f)"
      ],
      "metadata": {
        "id": "ExE5SmetaR_Y"
      },
      "execution_count": null,
      "outputs": []
    },
    {
      "cell_type": "code",
      "source": [
        "# Sample new transaction\n",
        "new_txn = {\n",
        "    \"transaction_id\": str(uuid.uuid4()),\n",
        "    \"timestamp\": pd.Timestamp.now(),\n",
        "    \"sender_wallet\": str(uuid.uuid4()),\n",
        "    \"receiver_wallet\": str(uuid.uuid4()),\n",
        "    \"amount\": 102231.09745,\n",
        "    \"currency\": \"ETH\",\n",
        "    \"gas_fee\": 0.00432,\n",
        "    \"is_smart_contract\": 1,\n",
        "    \"location\": \"United States\",\n",
        "    \"device_type\": \"mobile\",\n",
        "    \"is_fraud\": None\n",
        "}\n",
        "\n",
        "prediction = fd.predict(new_txn)\n",
        "print(\"🚨 FRAUD\" if prediction == 1 else \"✅ LEGIT\")"
      ],
      "metadata": {
        "id": "W_tg33S8aemJ"
      },
      "execution_count": null,
      "outputs": []
    }
  ]
}